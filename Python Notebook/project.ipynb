{
  "nbformat": 4,
  "nbformat_minor": 0,
  "metadata": {
    "colab": {
      "name": "606EDA.ipynb",
      "provenance": [],
      "collapsed_sections": [],
      "toc_visible": true
    },
    "kernelspec": {
      "name": "python3",
      "display_name": "Python 3"
    },
    "language_info": {
      "name": "python"
    }
  },
  "cells": [
    {
      "cell_type": "code",
      "metadata": {
        "id": "tAJb7KSSGnwG"
      },
      "source": [
        "import pandas as pd\n",
        "import numpy as np\n",
        "import datetime\n",
        "import seaborn as sns\n",
        "import matplotlib.pyplot as plt"
      ],
      "execution_count": 1,
      "outputs": []
    },
    {
      "cell_type": "code",
      "metadata": {
        "id": "Z2RKbuQb2-zr"
      },
      "source": [
        "filenames = ['/content/drive/MyDrive/Colab Notebooks/DATA606/gl2010_19/GL2010.TXT', \n",
        "             '/content/drive/MyDrive/Colab Notebooks/DATA606/gl2010_19/GL2011.TXT', \n",
        "             '/content/drive/MyDrive/Colab Notebooks/DATA606/gl2010_19/GL2012.TXT', \n",
        "             '/content/drive/MyDrive/Colab Notebooks/DATA606/gl2010_19/GL2013.TXT', \n",
        "             '/content/drive/MyDrive/Colab Notebooks/DATA606/gl2010_19/GL2014.TXT', \n",
        "             '/content/drive/MyDrive/Colab Notebooks/DATA606/gl2010_19/GL2015.TXT', \n",
        "             '/content/drive/MyDrive/Colab Notebooks/DATA606/gl2010_19/GL2016.TXT',\n",
        "             '/content/drive/MyDrive/Colab Notebooks/DATA606/gl2010_19/GL2017.TXT', \n",
        "             '/content/drive/MyDrive/Colab Notebooks/DATA606/gl2010_19/GL2018.TXT', \n",
        "             '/content/drive/MyDrive/Colab Notebooks/DATA606/gl2010_19/GL2019.TXT']\n",
        "\n",
        "with open('/content/drive/MyDrive/Colab Notebooks/DATA606/gl2010_19/GLall.txt', 'w') as outfile:\n",
        "    for fname in filenames:\n",
        "        with open(fname) as infile:\n",
        "            for line in infile:\n",
        "                outfile.write(line)"
      ],
      "execution_count": 2,
      "outputs": []
    },
    {
      "cell_type": "code",
      "metadata": {
        "id": "mpD-TjzzoTiR"
      },
      "source": [
        "GL_cols = ['date', 'numberofgame', 'dayofweek','visitingteam', 'visitingleague', 'visitingteamgamenumber',\n",
        "            'hometeam', 'homeleague', 'hometeamgamenumber', 'visitingscore', 'homescore',\n",
        "            'totalouts', 'dayornight', 'completion', 'forfeit', 'protest', 'parkID', 'attendance',\n",
        "            'totalminutes', 'visitinglinescore', 'homelinescore', 'V_atbats', 'V_hits',\n",
        "            'V_doubles', 'V_triples', 'V_homeruns', 'V_rbi', 'V_sacrificehits', 'V_sacflies', 'V_hitbypitch',\n",
        "            'V_walks', 'V_intentionalwalks', 'V_strikeouts', 'V_stolenbases', 'V_caughtstealing',\n",
        "            'V_groundedintodoubleplay', 'V_catcherinterference', 'V_leftonbase', 'V_pitchersused',\n",
        "            'V_individualearnedruns', 'V_teamearnedruns', 'V_wildpitches', 'V_putouts', 'V_balks', 'V_assists', 'V_errors',\n",
        "            'V_passedballs', 'V_doubleplays', 'V_tripleplays', 'H_atbats', 'H_hits', 'H_doubles',\n",
        "            'H_triples','H_homeruns', 'H_rbi', 'H_sacrificehits', 'H_sacflies', 'H_hitbypitch',\n",
        "            'H_walks', 'H_intentionalwalks', 'H_strikeouts', 'H_stolenbases', 'H_caughtstealing',\n",
        "            'H_groundedintodoubleplay', 'H_catcherinterference', 'H_leftonbase', 'H_pitchersused',\n",
        "            'H_individualearnedruns', 'H_teamearnedruns', 'H_wildpitches', 'H_putouts', 'H_balks', 'H_assists', 'H_errors',\n",
        "            'H_passedballs', 'H_doubleplays', 'H_tripleplays','homeumipreID', 'homeumiprename', '1BumpireID', '1Bumpirename', \n",
        "            '2BumpireID', '2Bumpirename', '3BumipreID', '3Bumpirename', 'LFumpireID', 'LFumpirename',\n",
        "            'RFumpireID', 'RFumpirename', 'V_managerID', 'V_managername', 'H_managerID', 'H_managername', 'win_pitcherID',\n",
        "            'win_pitchername', 'lose_pitcherID', 'lose_pitchername', 'save_pitcherID', 'save_pitchername',\n",
        "            'gamewin_rbi_ID', 'gamewin_rbi_name', 'V_pitcherID', 'V_pitchername', 'H_pitcherID',\n",
        "            'H_pitchername', 'V_player1_id', 'V_player1_name', 'V_player1_pos', 'V_player2_id',\n",
        "            'V_player2_name', 'V_player2_pos', 'V_player3_id', 'V_player3_name', 'V_player3_pos',\n",
        "            'V_player4_id', 'V_player4_name', 'V_player4_pos', 'V_player5_id', 'V_player5_name',\n",
        "            'V_player5_pos', 'V_player6_id', 'V_player6_name', 'V_player6_pos', 'V_player7_id',\n",
        "            'V_player7_name', 'V_player7_pos', 'V_player8_id', 'V_player8_name', 'V_player8_pos',\n",
        "            'V_player9_id', 'V_player9_name', 'V_player9_pos', 'H_player1_id','H_player1_name', \n",
        "            'H_player1_pos', 'H_player2_id', 'H_player2_name', 'H_player2_pos', 'H_player3_id', \n",
        "            'H_player3_name', 'H_player3_pos','H_player4_id', 'H_player4_name', 'H_player4_pos', \n",
        "            'H_player5_id', 'H_player5_name', 'H_player5_pos', 'H_player6_id', 'H_player6_name', \n",
        "            'H_player6_pos', 'H_player7_id','H_player7_name', 'H_player7_pos', 'H_player8_id', \n",
        "            'H_player8_name', 'H_player8_pos','H_player9_id', 'H_player9_name', 'H_player9_pos',\n",
        "            'additionalinfo', 'acquistioninfo']"
      ],
      "execution_count": 3,
      "outputs": []
    },
    {
      "cell_type": "code",
      "metadata": {
        "colab": {
          "base_uri": "https://localhost:8080/"
        },
        "id": "d-SjnQHgJru-",
        "outputId": "39fae07b-ebc1-4263-fcb4-b318dcf88bc3"
      },
      "source": [
        "# load game logs for 2010\n",
        "GLall = pd.read_csv('/content/drive/MyDrive/Colab Notebooks/DATA606/gl2010_19/GLall.txt', sep = ',', header = None)"
      ],
      "execution_count": 4,
      "outputs": [
        {
          "output_type": "stream",
          "text": [
            "/usr/local/lib/python3.7/dist-packages/IPython/core/interactiveshell.py:2718: DtypeWarning: Columns (15,85,87) have mixed types.Specify dtype option on import or set low_memory=False.\n",
            "  interactivity=interactivity, compiler=compiler, result=result)\n"
          ],
          "name": "stderr"
        }
      ]
    },
    {
      "cell_type": "code",
      "metadata": {
        "colab": {
          "base_uri": "https://localhost:8080/",
          "height": 338
        },
        "id": "w6EPHVrcMvFG",
        "outputId": "f2e43e19-f781-4925-8693-3deed5b295cb"
      },
      "source": [
        "GLall.head()"
      ],
      "execution_count": 5,
      "outputs": [
        {
          "output_type": "execute_result",
          "data": {
            "text/html": [
              "<div>\n",
              "<style scoped>\n",
              "    .dataframe tbody tr th:only-of-type {\n",
              "        vertical-align: middle;\n",
              "    }\n",
              "\n",
              "    .dataframe tbody tr th {\n",
              "        vertical-align: top;\n",
              "    }\n",
              "\n",
              "    .dataframe thead th {\n",
              "        text-align: right;\n",
              "    }\n",
              "</style>\n",
              "<table border=\"1\" class=\"dataframe\">\n",
              "  <thead>\n",
              "    <tr style=\"text-align: right;\">\n",
              "      <th></th>\n",
              "      <th>0</th>\n",
              "      <th>1</th>\n",
              "      <th>2</th>\n",
              "      <th>3</th>\n",
              "      <th>4</th>\n",
              "      <th>5</th>\n",
              "      <th>6</th>\n",
              "      <th>7</th>\n",
              "      <th>8</th>\n",
              "      <th>9</th>\n",
              "      <th>10</th>\n",
              "      <th>11</th>\n",
              "      <th>12</th>\n",
              "      <th>13</th>\n",
              "      <th>14</th>\n",
              "      <th>15</th>\n",
              "      <th>16</th>\n",
              "      <th>17</th>\n",
              "      <th>18</th>\n",
              "      <th>19</th>\n",
              "      <th>20</th>\n",
              "      <th>21</th>\n",
              "      <th>22</th>\n",
              "      <th>23</th>\n",
              "      <th>24</th>\n",
              "      <th>25</th>\n",
              "      <th>26</th>\n",
              "      <th>27</th>\n",
              "      <th>28</th>\n",
              "      <th>29</th>\n",
              "      <th>30</th>\n",
              "      <th>31</th>\n",
              "      <th>32</th>\n",
              "      <th>33</th>\n",
              "      <th>34</th>\n",
              "      <th>35</th>\n",
              "      <th>36</th>\n",
              "      <th>37</th>\n",
              "      <th>38</th>\n",
              "      <th>39</th>\n",
              "      <th>...</th>\n",
              "      <th>121</th>\n",
              "      <th>122</th>\n",
              "      <th>123</th>\n",
              "      <th>124</th>\n",
              "      <th>125</th>\n",
              "      <th>126</th>\n",
              "      <th>127</th>\n",
              "      <th>128</th>\n",
              "      <th>129</th>\n",
              "      <th>130</th>\n",
              "      <th>131</th>\n",
              "      <th>132</th>\n",
              "      <th>133</th>\n",
              "      <th>134</th>\n",
              "      <th>135</th>\n",
              "      <th>136</th>\n",
              "      <th>137</th>\n",
              "      <th>138</th>\n",
              "      <th>139</th>\n",
              "      <th>140</th>\n",
              "      <th>141</th>\n",
              "      <th>142</th>\n",
              "      <th>143</th>\n",
              "      <th>144</th>\n",
              "      <th>145</th>\n",
              "      <th>146</th>\n",
              "      <th>147</th>\n",
              "      <th>148</th>\n",
              "      <th>149</th>\n",
              "      <th>150</th>\n",
              "      <th>151</th>\n",
              "      <th>152</th>\n",
              "      <th>153</th>\n",
              "      <th>154</th>\n",
              "      <th>155</th>\n",
              "      <th>156</th>\n",
              "      <th>157</th>\n",
              "      <th>158</th>\n",
              "      <th>159</th>\n",
              "      <th>160</th>\n",
              "    </tr>\n",
              "  </thead>\n",
              "  <tbody>\n",
              "    <tr>\n",
              "      <th>0</th>\n",
              "      <td>20100404</td>\n",
              "      <td>0</td>\n",
              "      <td>Sun</td>\n",
              "      <td>NYA</td>\n",
              "      <td>AL</td>\n",
              "      <td>1</td>\n",
              "      <td>BOS</td>\n",
              "      <td>AL</td>\n",
              "      <td>1</td>\n",
              "      <td>7</td>\n",
              "      <td>9</td>\n",
              "      <td>51</td>\n",
              "      <td>N</td>\n",
              "      <td>NaN</td>\n",
              "      <td>NaN</td>\n",
              "      <td>NaN</td>\n",
              "      <td>BOS07</td>\n",
              "      <td>37440.0</td>\n",
              "      <td>226</td>\n",
              "      <td>020300200</td>\n",
              "      <td>01001331x</td>\n",
              "      <td>37</td>\n",
              "      <td>12</td>\n",
              "      <td>2</td>\n",
              "      <td>0</td>\n",
              "      <td>2</td>\n",
              "      <td>6</td>\n",
              "      <td>0</td>\n",
              "      <td>0</td>\n",
              "      <td>0</td>\n",
              "      <td>6</td>\n",
              "      <td>0</td>\n",
              "      <td>2</td>\n",
              "      <td>2</td>\n",
              "      <td>0</td>\n",
              "      <td>2</td>\n",
              "      <td>0</td>\n",
              "      <td>9</td>\n",
              "      <td>5</td>\n",
              "      <td>8</td>\n",
              "      <td>...</td>\n",
              "      <td>Jorge Posada</td>\n",
              "      <td>2</td>\n",
              "      <td>granc001</td>\n",
              "      <td>Curtis Granderson</td>\n",
              "      <td>8</td>\n",
              "      <td>swisn001</td>\n",
              "      <td>Nick Swisher</td>\n",
              "      <td>9</td>\n",
              "      <td>gardb001</td>\n",
              "      <td>Brett Gardner</td>\n",
              "      <td>7</td>\n",
              "      <td>ellsj001</td>\n",
              "      <td>Jacoby Ellsbury</td>\n",
              "      <td>7</td>\n",
              "      <td>pedrd001</td>\n",
              "      <td>Dustin Pedroia</td>\n",
              "      <td>4</td>\n",
              "      <td>martv001</td>\n",
              "      <td>Victor Martinez</td>\n",
              "      <td>2</td>\n",
              "      <td>youkk001</td>\n",
              "      <td>Kevin Youkilis</td>\n",
              "      <td>3</td>\n",
              "      <td>ortid001</td>\n",
              "      <td>David Ortiz</td>\n",
              "      <td>10</td>\n",
              "      <td>belta001</td>\n",
              "      <td>Adrian Beltre</td>\n",
              "      <td>5</td>\n",
              "      <td>drewj001</td>\n",
              "      <td>J.D. Drew</td>\n",
              "      <td>9</td>\n",
              "      <td>camem001</td>\n",
              "      <td>Mike Cameron</td>\n",
              "      <td>8</td>\n",
              "      <td>scutm001</td>\n",
              "      <td>Marco Scutaro</td>\n",
              "      <td>6</td>\n",
              "      <td>NaN</td>\n",
              "      <td>Y</td>\n",
              "    </tr>\n",
              "    <tr>\n",
              "      <th>1</th>\n",
              "      <td>20100405</td>\n",
              "      <td>0</td>\n",
              "      <td>Mon</td>\n",
              "      <td>MIN</td>\n",
              "      <td>AL</td>\n",
              "      <td>1</td>\n",
              "      <td>ANA</td>\n",
              "      <td>AL</td>\n",
              "      <td>1</td>\n",
              "      <td>3</td>\n",
              "      <td>6</td>\n",
              "      <td>51</td>\n",
              "      <td>N</td>\n",
              "      <td>NaN</td>\n",
              "      <td>NaN</td>\n",
              "      <td>NaN</td>\n",
              "      <td>ANA01</td>\n",
              "      <td>43504.0</td>\n",
              "      <td>180</td>\n",
              "      <td>020010000</td>\n",
              "      <td>21001002x</td>\n",
              "      <td>32</td>\n",
              "      <td>7</td>\n",
              "      <td>1</td>\n",
              "      <td>0</td>\n",
              "      <td>1</td>\n",
              "      <td>3</td>\n",
              "      <td>0</td>\n",
              "      <td>1</td>\n",
              "      <td>1</td>\n",
              "      <td>3</td>\n",
              "      <td>0</td>\n",
              "      <td>8</td>\n",
              "      <td>1</td>\n",
              "      <td>0</td>\n",
              "      <td>1</td>\n",
              "      <td>0</td>\n",
              "      <td>7</td>\n",
              "      <td>4</td>\n",
              "      <td>6</td>\n",
              "      <td>...</td>\n",
              "      <td>Jason Kubel</td>\n",
              "      <td>10</td>\n",
              "      <td>yound003</td>\n",
              "      <td>Delmon Young</td>\n",
              "      <td>7</td>\n",
              "      <td>hardj003</td>\n",
              "      <td>J.J. Hardy</td>\n",
              "      <td>6</td>\n",
              "      <td>puntn001</td>\n",
              "      <td>Nick Punto</td>\n",
              "      <td>5</td>\n",
              "      <td>aybae001</td>\n",
              "      <td>Erick Aybar</td>\n",
              "      <td>6</td>\n",
              "      <td>abreb001</td>\n",
              "      <td>Bobby Abreu</td>\n",
              "      <td>9</td>\n",
              "      <td>huntt001</td>\n",
              "      <td>Torii Hunter</td>\n",
              "      <td>8</td>\n",
              "      <td>matsh001</td>\n",
              "      <td>Hideki Matsui</td>\n",
              "      <td>10</td>\n",
              "      <td>morak001</td>\n",
              "      <td>Kendrys Morales</td>\n",
              "      <td>3</td>\n",
              "      <td>rivej001</td>\n",
              "      <td>Juan Rivera</td>\n",
              "      <td>7</td>\n",
              "      <td>kendh001</td>\n",
              "      <td>Howie Kendrick</td>\n",
              "      <td>4</td>\n",
              "      <td>woodb003</td>\n",
              "      <td>Brandon Wood</td>\n",
              "      <td>5</td>\n",
              "      <td>mathj001</td>\n",
              "      <td>Jeff Mathis</td>\n",
              "      <td>2</td>\n",
              "      <td>NaN</td>\n",
              "      <td>Y</td>\n",
              "    </tr>\n",
              "    <tr>\n",
              "      <th>2</th>\n",
              "      <td>20100405</td>\n",
              "      <td>0</td>\n",
              "      <td>Mon</td>\n",
              "      <td>CLE</td>\n",
              "      <td>AL</td>\n",
              "      <td>1</td>\n",
              "      <td>CHA</td>\n",
              "      <td>AL</td>\n",
              "      <td>1</td>\n",
              "      <td>0</td>\n",
              "      <td>6</td>\n",
              "      <td>51</td>\n",
              "      <td>D</td>\n",
              "      <td>NaN</td>\n",
              "      <td>NaN</td>\n",
              "      <td>NaN</td>\n",
              "      <td>CHI12</td>\n",
              "      <td>38935.0</td>\n",
              "      <td>144</td>\n",
              "      <td>000000000</td>\n",
              "      <td>20201001x</td>\n",
              "      <td>30</td>\n",
              "      <td>4</td>\n",
              "      <td>0</td>\n",
              "      <td>0</td>\n",
              "      <td>0</td>\n",
              "      <td>0</td>\n",
              "      <td>0</td>\n",
              "      <td>0</td>\n",
              "      <td>0</td>\n",
              "      <td>1</td>\n",
              "      <td>0</td>\n",
              "      <td>7</td>\n",
              "      <td>0</td>\n",
              "      <td>0</td>\n",
              "      <td>1</td>\n",
              "      <td>0</td>\n",
              "      <td>4</td>\n",
              "      <td>4</td>\n",
              "      <td>6</td>\n",
              "      <td>...</td>\n",
              "      <td>Matt LaPorta</td>\n",
              "      <td>3</td>\n",
              "      <td>grudm001</td>\n",
              "      <td>Mark Grudzielanek</td>\n",
              "      <td>4</td>\n",
              "      <td>marsl001</td>\n",
              "      <td>Lou Marson</td>\n",
              "      <td>2</td>\n",
              "      <td>branm003</td>\n",
              "      <td>Michael Brantley</td>\n",
              "      <td>7</td>\n",
              "      <td>pierj002</td>\n",
              "      <td>Juan Pierre</td>\n",
              "      <td>7</td>\n",
              "      <td>beckg001</td>\n",
              "      <td>Gordon Beckham</td>\n",
              "      <td>4</td>\n",
              "      <td>quenc001</td>\n",
              "      <td>Carlos Quentin</td>\n",
              "      <td>9</td>\n",
              "      <td>konep001</td>\n",
              "      <td>Paul Konerko</td>\n",
              "      <td>3</td>\n",
              "      <td>kotsm001</td>\n",
              "      <td>Mark Kotsay</td>\n",
              "      <td>10</td>\n",
              "      <td>riosa002</td>\n",
              "      <td>Alex Rios</td>\n",
              "      <td>8</td>\n",
              "      <td>piera001</td>\n",
              "      <td>A.J. Pierzynski</td>\n",
              "      <td>2</td>\n",
              "      <td>teahm001</td>\n",
              "      <td>Mark Teahen</td>\n",
              "      <td>5</td>\n",
              "      <td>ramia003</td>\n",
              "      <td>Alexei Ramirez</td>\n",
              "      <td>6</td>\n",
              "      <td>NaN</td>\n",
              "      <td>Y</td>\n",
              "    </tr>\n",
              "    <tr>\n",
              "      <th>3</th>\n",
              "      <td>20100405</td>\n",
              "      <td>0</td>\n",
              "      <td>Mon</td>\n",
              "      <td>DET</td>\n",
              "      <td>AL</td>\n",
              "      <td>1</td>\n",
              "      <td>KCA</td>\n",
              "      <td>AL</td>\n",
              "      <td>1</td>\n",
              "      <td>8</td>\n",
              "      <td>4</td>\n",
              "      <td>54</td>\n",
              "      <td>D</td>\n",
              "      <td>NaN</td>\n",
              "      <td>NaN</td>\n",
              "      <td>NaN</td>\n",
              "      <td>KAN06</td>\n",
              "      <td>40052.0</td>\n",
              "      <td>185</td>\n",
              "      <td>100001600</td>\n",
              "      <td>020020000</td>\n",
              "      <td>39</td>\n",
              "      <td>12</td>\n",
              "      <td>4</td>\n",
              "      <td>0</td>\n",
              "      <td>0</td>\n",
              "      <td>7</td>\n",
              "      <td>0</td>\n",
              "      <td>0</td>\n",
              "      <td>0</td>\n",
              "      <td>2</td>\n",
              "      <td>0</td>\n",
              "      <td>9</td>\n",
              "      <td>0</td>\n",
              "      <td>0</td>\n",
              "      <td>1</td>\n",
              "      <td>0</td>\n",
              "      <td>6</td>\n",
              "      <td>5</td>\n",
              "      <td>4</td>\n",
              "      <td>...</td>\n",
              "      <td>Brandon Inge</td>\n",
              "      <td>5</td>\n",
              "      <td>lairg001</td>\n",
              "      <td>Gerald Laird</td>\n",
              "      <td>2</td>\n",
              "      <td>sizes001</td>\n",
              "      <td>Scott Sizemore</td>\n",
              "      <td>4</td>\n",
              "      <td>evera001</td>\n",
              "      <td>Adam Everett</td>\n",
              "      <td>6</td>\n",
              "      <td>dejed001</td>\n",
              "      <td>David DeJesus</td>\n",
              "      <td>9</td>\n",
              "      <td>podss001</td>\n",
              "      <td>Scott Podsednik</td>\n",
              "      <td>7</td>\n",
              "      <td>butlb003</td>\n",
              "      <td>Billy Butler</td>\n",
              "      <td>3</td>\n",
              "      <td>ankir001</td>\n",
              "      <td>Rick Ankiel</td>\n",
              "      <td>8</td>\n",
              "      <td>guilj001</td>\n",
              "      <td>Jose Guillen</td>\n",
              "      <td>10</td>\n",
              "      <td>bloow001</td>\n",
              "      <td>Willie Bloomquist</td>\n",
              "      <td>5</td>\n",
              "      <td>betay001</td>\n",
              "      <td>Yuniesky Betancourt</td>\n",
              "      <td>6</td>\n",
              "      <td>kendj001</td>\n",
              "      <td>Jason Kendall</td>\n",
              "      <td>2</td>\n",
              "      <td>getzc001</td>\n",
              "      <td>Chris Getz</td>\n",
              "      <td>4</td>\n",
              "      <td>NaN</td>\n",
              "      <td>Y</td>\n",
              "    </tr>\n",
              "    <tr>\n",
              "      <th>4</th>\n",
              "      <td>20100405</td>\n",
              "      <td>0</td>\n",
              "      <td>Mon</td>\n",
              "      <td>SEA</td>\n",
              "      <td>AL</td>\n",
              "      <td>1</td>\n",
              "      <td>OAK</td>\n",
              "      <td>AL</td>\n",
              "      <td>1</td>\n",
              "      <td>5</td>\n",
              "      <td>3</td>\n",
              "      <td>54</td>\n",
              "      <td>N</td>\n",
              "      <td>NaN</td>\n",
              "      <td>NaN</td>\n",
              "      <td>NaN</td>\n",
              "      <td>OAK01</td>\n",
              "      <td>30686.0</td>\n",
              "      <td>167</td>\n",
              "      <td>111000002</td>\n",
              "      <td>000001200</td>\n",
              "      <td>31</td>\n",
              "      <td>6</td>\n",
              "      <td>2</td>\n",
              "      <td>0</td>\n",
              "      <td>1</td>\n",
              "      <td>5</td>\n",
              "      <td>0</td>\n",
              "      <td>1</td>\n",
              "      <td>0</td>\n",
              "      <td>8</td>\n",
              "      <td>1</td>\n",
              "      <td>8</td>\n",
              "      <td>3</td>\n",
              "      <td>2</td>\n",
              "      <td>1</td>\n",
              "      <td>0</td>\n",
              "      <td>8</td>\n",
              "      <td>4</td>\n",
              "      <td>3</td>\n",
              "      <td>...</td>\n",
              "      <td>Jose Lopez</td>\n",
              "      <td>5</td>\n",
              "      <td>gutif001</td>\n",
              "      <td>Franklin Gutierrez</td>\n",
              "      <td>8</td>\n",
              "      <td>johnr009</td>\n",
              "      <td>Rob Johnson</td>\n",
              "      <td>2</td>\n",
              "      <td>wilsj002</td>\n",
              "      <td>Jack Wilson</td>\n",
              "      <td>6</td>\n",
              "      <td>davir003</td>\n",
              "      <td>Rajai Davis</td>\n",
              "      <td>8</td>\n",
              "      <td>bartd001</td>\n",
              "      <td>Daric Barton</td>\n",
              "      <td>3</td>\n",
              "      <td>sweer001</td>\n",
              "      <td>Ryan Sweeney</td>\n",
              "      <td>9</td>\n",
              "      <td>kouzk001</td>\n",
              "      <td>Kevin Kouzmanoff</td>\n",
              "      <td>5</td>\n",
              "      <td>suzuk001</td>\n",
              "      <td>Kurt Suzuki</td>\n",
              "      <td>2</td>\n",
              "      <td>chave001</td>\n",
              "      <td>Eric Chavez</td>\n",
              "      <td>10</td>\n",
              "      <td>ellim001</td>\n",
              "      <td>Mark Ellis</td>\n",
              "      <td>4</td>\n",
              "      <td>buckt001</td>\n",
              "      <td>Travis Buck</td>\n",
              "      <td>7</td>\n",
              "      <td>pennc001</td>\n",
              "      <td>Cliff Pennington</td>\n",
              "      <td>6</td>\n",
              "      <td>NaN</td>\n",
              "      <td>Y</td>\n",
              "    </tr>\n",
              "  </tbody>\n",
              "</table>\n",
              "<p>5 rows × 161 columns</p>\n",
              "</div>"
            ],
            "text/plain": [
              "        0    1    2    3   4    ...       156               157 158  159  160\n",
              "0  20100404    0  Sun  NYA  AL  ...  scutm001     Marco Scutaro   6  NaN    Y\n",
              "1  20100405    0  Mon  MIN  AL  ...  mathj001       Jeff Mathis   2  NaN    Y\n",
              "2  20100405    0  Mon  CLE  AL  ...  ramia003    Alexei Ramirez   6  NaN    Y\n",
              "3  20100405    0  Mon  DET  AL  ...  getzc001        Chris Getz   4  NaN    Y\n",
              "4  20100405    0  Mon  SEA  AL  ...  pennc001  Cliff Pennington   6  NaN    Y\n",
              "\n",
              "[5 rows x 161 columns]"
            ]
          },
          "metadata": {
            "tags": []
          },
          "execution_count": 5
        }
      ]
    },
    {
      "cell_type": "code",
      "metadata": {
        "id": "ONVrZjibmO95"
      },
      "source": [
        "GLall.columns = GL_cols"
      ],
      "execution_count": 6,
      "outputs": []
    },
    {
      "cell_type": "code",
      "metadata": {
        "colab": {
          "base_uri": "https://localhost:8080/",
          "height": 270
        },
        "id": "d-_g8O-Dpd5C",
        "outputId": "494dad8a-d9a8-46a7-8920-2387c05800ef"
      },
      "source": [
        "GLall.head()"
      ],
      "execution_count": 7,
      "outputs": [
        {
          "output_type": "execute_result",
          "data": {
            "text/html": [
              "<div>\n",
              "<style scoped>\n",
              "    .dataframe tbody tr th:only-of-type {\n",
              "        vertical-align: middle;\n",
              "    }\n",
              "\n",
              "    .dataframe tbody tr th {\n",
              "        vertical-align: top;\n",
              "    }\n",
              "\n",
              "    .dataframe thead th {\n",
              "        text-align: right;\n",
              "    }\n",
              "</style>\n",
              "<table border=\"1\" class=\"dataframe\">\n",
              "  <thead>\n",
              "    <tr style=\"text-align: right;\">\n",
              "      <th></th>\n",
              "      <th>date</th>\n",
              "      <th>numberofgame</th>\n",
              "      <th>dayofweek</th>\n",
              "      <th>visitingteam</th>\n",
              "      <th>visitingleague</th>\n",
              "      <th>visitingteamgamenumber</th>\n",
              "      <th>hometeam</th>\n",
              "      <th>homeleague</th>\n",
              "      <th>hometeamgamenumber</th>\n",
              "      <th>visitingscore</th>\n",
              "      <th>homescore</th>\n",
              "      <th>totalouts</th>\n",
              "      <th>dayornight</th>\n",
              "      <th>completion</th>\n",
              "      <th>forfeit</th>\n",
              "      <th>protest</th>\n",
              "      <th>parkID</th>\n",
              "      <th>attendance</th>\n",
              "      <th>totalminutes</th>\n",
              "      <th>visitinglinescore</th>\n",
              "      <th>homelinescore</th>\n",
              "      <th>V_atbats</th>\n",
              "      <th>V_hits</th>\n",
              "      <th>V_doubles</th>\n",
              "      <th>V_triples</th>\n",
              "      <th>V_homeruns</th>\n",
              "      <th>V_rbi</th>\n",
              "      <th>V_sacrificehits</th>\n",
              "      <th>V_sacflies</th>\n",
              "      <th>V_hitbypitch</th>\n",
              "      <th>V_walks</th>\n",
              "      <th>V_intentionalwalks</th>\n",
              "      <th>V_strikeouts</th>\n",
              "      <th>V_stolenbases</th>\n",
              "      <th>V_caughtstealing</th>\n",
              "      <th>V_groundedintodoubleplay</th>\n",
              "      <th>V_catcherinterference</th>\n",
              "      <th>V_leftonbase</th>\n",
              "      <th>V_pitchersused</th>\n",
              "      <th>V_individualearnedruns</th>\n",
              "      <th>...</th>\n",
              "      <th>V_player6_name</th>\n",
              "      <th>V_player6_pos</th>\n",
              "      <th>V_player7_id</th>\n",
              "      <th>V_player7_name</th>\n",
              "      <th>V_player7_pos</th>\n",
              "      <th>V_player8_id</th>\n",
              "      <th>V_player8_name</th>\n",
              "      <th>V_player8_pos</th>\n",
              "      <th>V_player9_id</th>\n",
              "      <th>V_player9_name</th>\n",
              "      <th>V_player9_pos</th>\n",
              "      <th>H_player1_id</th>\n",
              "      <th>H_player1_name</th>\n",
              "      <th>H_player1_pos</th>\n",
              "      <th>H_player2_id</th>\n",
              "      <th>H_player2_name</th>\n",
              "      <th>H_player2_pos</th>\n",
              "      <th>H_player3_id</th>\n",
              "      <th>H_player3_name</th>\n",
              "      <th>H_player3_pos</th>\n",
              "      <th>H_player4_id</th>\n",
              "      <th>H_player4_name</th>\n",
              "      <th>H_player4_pos</th>\n",
              "      <th>H_player5_id</th>\n",
              "      <th>H_player5_name</th>\n",
              "      <th>H_player5_pos</th>\n",
              "      <th>H_player6_id</th>\n",
              "      <th>H_player6_name</th>\n",
              "      <th>H_player6_pos</th>\n",
              "      <th>H_player7_id</th>\n",
              "      <th>H_player7_name</th>\n",
              "      <th>H_player7_pos</th>\n",
              "      <th>H_player8_id</th>\n",
              "      <th>H_player8_name</th>\n",
              "      <th>H_player8_pos</th>\n",
              "      <th>H_player9_id</th>\n",
              "      <th>H_player9_name</th>\n",
              "      <th>H_player9_pos</th>\n",
              "      <th>additionalinfo</th>\n",
              "      <th>acquistioninfo</th>\n",
              "    </tr>\n",
              "  </thead>\n",
              "  <tbody>\n",
              "    <tr>\n",
              "      <th>0</th>\n",
              "      <td>20100404</td>\n",
              "      <td>0</td>\n",
              "      <td>Sun</td>\n",
              "      <td>NYA</td>\n",
              "      <td>AL</td>\n",
              "      <td>1</td>\n",
              "      <td>BOS</td>\n",
              "      <td>AL</td>\n",
              "      <td>1</td>\n",
              "      <td>7</td>\n",
              "      <td>9</td>\n",
              "      <td>51</td>\n",
              "      <td>N</td>\n",
              "      <td>NaN</td>\n",
              "      <td>NaN</td>\n",
              "      <td>NaN</td>\n",
              "      <td>BOS07</td>\n",
              "      <td>37440.0</td>\n",
              "      <td>226</td>\n",
              "      <td>020300200</td>\n",
              "      <td>01001331x</td>\n",
              "      <td>37</td>\n",
              "      <td>12</td>\n",
              "      <td>2</td>\n",
              "      <td>0</td>\n",
              "      <td>2</td>\n",
              "      <td>6</td>\n",
              "      <td>0</td>\n",
              "      <td>0</td>\n",
              "      <td>0</td>\n",
              "      <td>6</td>\n",
              "      <td>0</td>\n",
              "      <td>2</td>\n",
              "      <td>2</td>\n",
              "      <td>0</td>\n",
              "      <td>2</td>\n",
              "      <td>0</td>\n",
              "      <td>9</td>\n",
              "      <td>5</td>\n",
              "      <td>8</td>\n",
              "      <td>...</td>\n",
              "      <td>Jorge Posada</td>\n",
              "      <td>2</td>\n",
              "      <td>granc001</td>\n",
              "      <td>Curtis Granderson</td>\n",
              "      <td>8</td>\n",
              "      <td>swisn001</td>\n",
              "      <td>Nick Swisher</td>\n",
              "      <td>9</td>\n",
              "      <td>gardb001</td>\n",
              "      <td>Brett Gardner</td>\n",
              "      <td>7</td>\n",
              "      <td>ellsj001</td>\n",
              "      <td>Jacoby Ellsbury</td>\n",
              "      <td>7</td>\n",
              "      <td>pedrd001</td>\n",
              "      <td>Dustin Pedroia</td>\n",
              "      <td>4</td>\n",
              "      <td>martv001</td>\n",
              "      <td>Victor Martinez</td>\n",
              "      <td>2</td>\n",
              "      <td>youkk001</td>\n",
              "      <td>Kevin Youkilis</td>\n",
              "      <td>3</td>\n",
              "      <td>ortid001</td>\n",
              "      <td>David Ortiz</td>\n",
              "      <td>10</td>\n",
              "      <td>belta001</td>\n",
              "      <td>Adrian Beltre</td>\n",
              "      <td>5</td>\n",
              "      <td>drewj001</td>\n",
              "      <td>J.D. Drew</td>\n",
              "      <td>9</td>\n",
              "      <td>camem001</td>\n",
              "      <td>Mike Cameron</td>\n",
              "      <td>8</td>\n",
              "      <td>scutm001</td>\n",
              "      <td>Marco Scutaro</td>\n",
              "      <td>6</td>\n",
              "      <td>NaN</td>\n",
              "      <td>Y</td>\n",
              "    </tr>\n",
              "    <tr>\n",
              "      <th>1</th>\n",
              "      <td>20100405</td>\n",
              "      <td>0</td>\n",
              "      <td>Mon</td>\n",
              "      <td>MIN</td>\n",
              "      <td>AL</td>\n",
              "      <td>1</td>\n",
              "      <td>ANA</td>\n",
              "      <td>AL</td>\n",
              "      <td>1</td>\n",
              "      <td>3</td>\n",
              "      <td>6</td>\n",
              "      <td>51</td>\n",
              "      <td>N</td>\n",
              "      <td>NaN</td>\n",
              "      <td>NaN</td>\n",
              "      <td>NaN</td>\n",
              "      <td>ANA01</td>\n",
              "      <td>43504.0</td>\n",
              "      <td>180</td>\n",
              "      <td>020010000</td>\n",
              "      <td>21001002x</td>\n",
              "      <td>32</td>\n",
              "      <td>7</td>\n",
              "      <td>1</td>\n",
              "      <td>0</td>\n",
              "      <td>1</td>\n",
              "      <td>3</td>\n",
              "      <td>0</td>\n",
              "      <td>1</td>\n",
              "      <td>1</td>\n",
              "      <td>3</td>\n",
              "      <td>0</td>\n",
              "      <td>8</td>\n",
              "      <td>1</td>\n",
              "      <td>0</td>\n",
              "      <td>1</td>\n",
              "      <td>0</td>\n",
              "      <td>7</td>\n",
              "      <td>4</td>\n",
              "      <td>6</td>\n",
              "      <td>...</td>\n",
              "      <td>Jason Kubel</td>\n",
              "      <td>10</td>\n",
              "      <td>yound003</td>\n",
              "      <td>Delmon Young</td>\n",
              "      <td>7</td>\n",
              "      <td>hardj003</td>\n",
              "      <td>J.J. Hardy</td>\n",
              "      <td>6</td>\n",
              "      <td>puntn001</td>\n",
              "      <td>Nick Punto</td>\n",
              "      <td>5</td>\n",
              "      <td>aybae001</td>\n",
              "      <td>Erick Aybar</td>\n",
              "      <td>6</td>\n",
              "      <td>abreb001</td>\n",
              "      <td>Bobby Abreu</td>\n",
              "      <td>9</td>\n",
              "      <td>huntt001</td>\n",
              "      <td>Torii Hunter</td>\n",
              "      <td>8</td>\n",
              "      <td>matsh001</td>\n",
              "      <td>Hideki Matsui</td>\n",
              "      <td>10</td>\n",
              "      <td>morak001</td>\n",
              "      <td>Kendrys Morales</td>\n",
              "      <td>3</td>\n",
              "      <td>rivej001</td>\n",
              "      <td>Juan Rivera</td>\n",
              "      <td>7</td>\n",
              "      <td>kendh001</td>\n",
              "      <td>Howie Kendrick</td>\n",
              "      <td>4</td>\n",
              "      <td>woodb003</td>\n",
              "      <td>Brandon Wood</td>\n",
              "      <td>5</td>\n",
              "      <td>mathj001</td>\n",
              "      <td>Jeff Mathis</td>\n",
              "      <td>2</td>\n",
              "      <td>NaN</td>\n",
              "      <td>Y</td>\n",
              "    </tr>\n",
              "    <tr>\n",
              "      <th>2</th>\n",
              "      <td>20100405</td>\n",
              "      <td>0</td>\n",
              "      <td>Mon</td>\n",
              "      <td>CLE</td>\n",
              "      <td>AL</td>\n",
              "      <td>1</td>\n",
              "      <td>CHA</td>\n",
              "      <td>AL</td>\n",
              "      <td>1</td>\n",
              "      <td>0</td>\n",
              "      <td>6</td>\n",
              "      <td>51</td>\n",
              "      <td>D</td>\n",
              "      <td>NaN</td>\n",
              "      <td>NaN</td>\n",
              "      <td>NaN</td>\n",
              "      <td>CHI12</td>\n",
              "      <td>38935.0</td>\n",
              "      <td>144</td>\n",
              "      <td>000000000</td>\n",
              "      <td>20201001x</td>\n",
              "      <td>30</td>\n",
              "      <td>4</td>\n",
              "      <td>0</td>\n",
              "      <td>0</td>\n",
              "      <td>0</td>\n",
              "      <td>0</td>\n",
              "      <td>0</td>\n",
              "      <td>0</td>\n",
              "      <td>0</td>\n",
              "      <td>1</td>\n",
              "      <td>0</td>\n",
              "      <td>7</td>\n",
              "      <td>0</td>\n",
              "      <td>0</td>\n",
              "      <td>1</td>\n",
              "      <td>0</td>\n",
              "      <td>4</td>\n",
              "      <td>4</td>\n",
              "      <td>6</td>\n",
              "      <td>...</td>\n",
              "      <td>Matt LaPorta</td>\n",
              "      <td>3</td>\n",
              "      <td>grudm001</td>\n",
              "      <td>Mark Grudzielanek</td>\n",
              "      <td>4</td>\n",
              "      <td>marsl001</td>\n",
              "      <td>Lou Marson</td>\n",
              "      <td>2</td>\n",
              "      <td>branm003</td>\n",
              "      <td>Michael Brantley</td>\n",
              "      <td>7</td>\n",
              "      <td>pierj002</td>\n",
              "      <td>Juan Pierre</td>\n",
              "      <td>7</td>\n",
              "      <td>beckg001</td>\n",
              "      <td>Gordon Beckham</td>\n",
              "      <td>4</td>\n",
              "      <td>quenc001</td>\n",
              "      <td>Carlos Quentin</td>\n",
              "      <td>9</td>\n",
              "      <td>konep001</td>\n",
              "      <td>Paul Konerko</td>\n",
              "      <td>3</td>\n",
              "      <td>kotsm001</td>\n",
              "      <td>Mark Kotsay</td>\n",
              "      <td>10</td>\n",
              "      <td>riosa002</td>\n",
              "      <td>Alex Rios</td>\n",
              "      <td>8</td>\n",
              "      <td>piera001</td>\n",
              "      <td>A.J. Pierzynski</td>\n",
              "      <td>2</td>\n",
              "      <td>teahm001</td>\n",
              "      <td>Mark Teahen</td>\n",
              "      <td>5</td>\n",
              "      <td>ramia003</td>\n",
              "      <td>Alexei Ramirez</td>\n",
              "      <td>6</td>\n",
              "      <td>NaN</td>\n",
              "      <td>Y</td>\n",
              "    </tr>\n",
              "    <tr>\n",
              "      <th>3</th>\n",
              "      <td>20100405</td>\n",
              "      <td>0</td>\n",
              "      <td>Mon</td>\n",
              "      <td>DET</td>\n",
              "      <td>AL</td>\n",
              "      <td>1</td>\n",
              "      <td>KCA</td>\n",
              "      <td>AL</td>\n",
              "      <td>1</td>\n",
              "      <td>8</td>\n",
              "      <td>4</td>\n",
              "      <td>54</td>\n",
              "      <td>D</td>\n",
              "      <td>NaN</td>\n",
              "      <td>NaN</td>\n",
              "      <td>NaN</td>\n",
              "      <td>KAN06</td>\n",
              "      <td>40052.0</td>\n",
              "      <td>185</td>\n",
              "      <td>100001600</td>\n",
              "      <td>020020000</td>\n",
              "      <td>39</td>\n",
              "      <td>12</td>\n",
              "      <td>4</td>\n",
              "      <td>0</td>\n",
              "      <td>0</td>\n",
              "      <td>7</td>\n",
              "      <td>0</td>\n",
              "      <td>0</td>\n",
              "      <td>0</td>\n",
              "      <td>2</td>\n",
              "      <td>0</td>\n",
              "      <td>9</td>\n",
              "      <td>0</td>\n",
              "      <td>0</td>\n",
              "      <td>1</td>\n",
              "      <td>0</td>\n",
              "      <td>6</td>\n",
              "      <td>5</td>\n",
              "      <td>4</td>\n",
              "      <td>...</td>\n",
              "      <td>Brandon Inge</td>\n",
              "      <td>5</td>\n",
              "      <td>lairg001</td>\n",
              "      <td>Gerald Laird</td>\n",
              "      <td>2</td>\n",
              "      <td>sizes001</td>\n",
              "      <td>Scott Sizemore</td>\n",
              "      <td>4</td>\n",
              "      <td>evera001</td>\n",
              "      <td>Adam Everett</td>\n",
              "      <td>6</td>\n",
              "      <td>dejed001</td>\n",
              "      <td>David DeJesus</td>\n",
              "      <td>9</td>\n",
              "      <td>podss001</td>\n",
              "      <td>Scott Podsednik</td>\n",
              "      <td>7</td>\n",
              "      <td>butlb003</td>\n",
              "      <td>Billy Butler</td>\n",
              "      <td>3</td>\n",
              "      <td>ankir001</td>\n",
              "      <td>Rick Ankiel</td>\n",
              "      <td>8</td>\n",
              "      <td>guilj001</td>\n",
              "      <td>Jose Guillen</td>\n",
              "      <td>10</td>\n",
              "      <td>bloow001</td>\n",
              "      <td>Willie Bloomquist</td>\n",
              "      <td>5</td>\n",
              "      <td>betay001</td>\n",
              "      <td>Yuniesky Betancourt</td>\n",
              "      <td>6</td>\n",
              "      <td>kendj001</td>\n",
              "      <td>Jason Kendall</td>\n",
              "      <td>2</td>\n",
              "      <td>getzc001</td>\n",
              "      <td>Chris Getz</td>\n",
              "      <td>4</td>\n",
              "      <td>NaN</td>\n",
              "      <td>Y</td>\n",
              "    </tr>\n",
              "    <tr>\n",
              "      <th>4</th>\n",
              "      <td>20100405</td>\n",
              "      <td>0</td>\n",
              "      <td>Mon</td>\n",
              "      <td>SEA</td>\n",
              "      <td>AL</td>\n",
              "      <td>1</td>\n",
              "      <td>OAK</td>\n",
              "      <td>AL</td>\n",
              "      <td>1</td>\n",
              "      <td>5</td>\n",
              "      <td>3</td>\n",
              "      <td>54</td>\n",
              "      <td>N</td>\n",
              "      <td>NaN</td>\n",
              "      <td>NaN</td>\n",
              "      <td>NaN</td>\n",
              "      <td>OAK01</td>\n",
              "      <td>30686.0</td>\n",
              "      <td>167</td>\n",
              "      <td>111000002</td>\n",
              "      <td>000001200</td>\n",
              "      <td>31</td>\n",
              "      <td>6</td>\n",
              "      <td>2</td>\n",
              "      <td>0</td>\n",
              "      <td>1</td>\n",
              "      <td>5</td>\n",
              "      <td>0</td>\n",
              "      <td>1</td>\n",
              "      <td>0</td>\n",
              "      <td>8</td>\n",
              "      <td>1</td>\n",
              "      <td>8</td>\n",
              "      <td>3</td>\n",
              "      <td>2</td>\n",
              "      <td>1</td>\n",
              "      <td>0</td>\n",
              "      <td>8</td>\n",
              "      <td>4</td>\n",
              "      <td>3</td>\n",
              "      <td>...</td>\n",
              "      <td>Jose Lopez</td>\n",
              "      <td>5</td>\n",
              "      <td>gutif001</td>\n",
              "      <td>Franklin Gutierrez</td>\n",
              "      <td>8</td>\n",
              "      <td>johnr009</td>\n",
              "      <td>Rob Johnson</td>\n",
              "      <td>2</td>\n",
              "      <td>wilsj002</td>\n",
              "      <td>Jack Wilson</td>\n",
              "      <td>6</td>\n",
              "      <td>davir003</td>\n",
              "      <td>Rajai Davis</td>\n",
              "      <td>8</td>\n",
              "      <td>bartd001</td>\n",
              "      <td>Daric Barton</td>\n",
              "      <td>3</td>\n",
              "      <td>sweer001</td>\n",
              "      <td>Ryan Sweeney</td>\n",
              "      <td>9</td>\n",
              "      <td>kouzk001</td>\n",
              "      <td>Kevin Kouzmanoff</td>\n",
              "      <td>5</td>\n",
              "      <td>suzuk001</td>\n",
              "      <td>Kurt Suzuki</td>\n",
              "      <td>2</td>\n",
              "      <td>chave001</td>\n",
              "      <td>Eric Chavez</td>\n",
              "      <td>10</td>\n",
              "      <td>ellim001</td>\n",
              "      <td>Mark Ellis</td>\n",
              "      <td>4</td>\n",
              "      <td>buckt001</td>\n",
              "      <td>Travis Buck</td>\n",
              "      <td>7</td>\n",
              "      <td>pennc001</td>\n",
              "      <td>Cliff Pennington</td>\n",
              "      <td>6</td>\n",
              "      <td>NaN</td>\n",
              "      <td>Y</td>\n",
              "    </tr>\n",
              "  </tbody>\n",
              "</table>\n",
              "<p>5 rows × 161 columns</p>\n",
              "</div>"
            ],
            "text/plain": [
              "       date  numberofgame dayofweek  ... H_player9_pos additionalinfo  acquistioninfo\n",
              "0  20100404             0       Sun  ...             6            NaN               Y\n",
              "1  20100405             0       Mon  ...             2            NaN               Y\n",
              "2  20100405             0       Mon  ...             6            NaN               Y\n",
              "3  20100405             0       Mon  ...             4            NaN               Y\n",
              "4  20100405             0       Mon  ...             6            NaN               Y\n",
              "\n",
              "[5 rows x 161 columns]"
            ]
          },
          "metadata": {
            "tags": []
          },
          "execution_count": 7
        }
      ]
    },
    {
      "cell_type": "code",
      "metadata": {
        "colab": {
          "base_uri": "https://localhost:8080/"
        },
        "id": "Qq06PwCLw86h",
        "outputId": "cefd4eec-7b2d-4d2e-f26a-1c6009999c40"
      },
      "source": [
        "GLall.shape"
      ],
      "execution_count": 8,
      "outputs": [
        {
          "output_type": "execute_result",
          "data": {
            "text/plain": [
              "(24297, 161)"
            ]
          },
          "metadata": {
            "tags": []
          },
          "execution_count": 8
        }
      ]
    },
    {
      "cell_type": "markdown",
      "metadata": {
        "id": "ePp7xO-Zo2t5"
      },
      "source": [
        "### The GLall dataframe is a super table with all of the game info, but is missing some components - lets add the necessary info. and then break the super table into smaller data frames for analysis"
      ]
    },
    {
      "cell_type": "code",
      "metadata": {
        "id": "AQBGhpvWKjgJ"
      },
      "source": [
        "mlb_game_df = GLall.copy()"
      ],
      "execution_count": 9,
      "outputs": []
    },
    {
      "cell_type": "code",
      "metadata": {
        "colab": {
          "base_uri": "https://localhost:8080/"
        },
        "id": "20YMlIFRo1fq",
        "outputId": "6b9fe8e1-4640-404b-cb64-abdbf27945c8"
      },
      "source": [
        "mlb_game_df.forfeit.unique()"
      ],
      "execution_count": 10,
      "outputs": [
        {
          "output_type": "execute_result",
          "data": {
            "text/plain": [
              "array([nan])"
            ]
          },
          "metadata": {
            "tags": []
          },
          "execution_count": 10
        }
      ]
    },
    {
      "cell_type": "markdown",
      "metadata": {
        "id": "aZLfDp9cqVmc"
      },
      "source": [
        "> There were no forfeit games"
      ]
    },
    {
      "cell_type": "code",
      "metadata": {
        "id": "PDo9PH6wprvs"
      },
      "source": [
        "mlb_game_df2 = mlb_game_df[pd.isnull(\n",
        "    mlb_game_df['completion'])]"
      ],
      "execution_count": 11,
      "outputs": []
    },
    {
      "cell_type": "code",
      "metadata": {
        "colab": {
          "base_uri": "https://localhost:8080/"
        },
        "id": "Ks89ln2pp8aF",
        "outputId": "9bb89d2d-f1bc-4e55-c1eb-1878ef3a942d"
      },
      "source": [
        "len(mlb_game_df) - len(mlb_game_df2)"
      ],
      "execution_count": 12,
      "outputs": [
        {
          "output_type": "execute_result",
          "data": {
            "text/plain": [
              "21"
            ]
          },
          "metadata": {
            "tags": []
          },
          "execution_count": 12
        }
      ]
    },
    {
      "cell_type": "markdown",
      "metadata": {
        "id": "s9W9oQ9Rqyil"
      },
      "source": [
        "> There were 21 games that were completed later. The second data frame will only include the games with completion (excludes the 21 null completion games)."
      ]
    },
    {
      "cell_type": "markdown",
      "metadata": {
        "id": "7PbQotLDrejj"
      },
      "source": [
        "### Parse date time into new columns"
      ]
    },
    {
      "cell_type": "code",
      "metadata": {
        "colab": {
          "base_uri": "https://localhost:8080/"
        },
        "id": "rHnhsGfJqb1g",
        "outputId": "960af6a2-645d-4e70-bee0-ad42e266e2ee"
      },
      "source": [
        "mlb_game_df2['Y'] = mlb_game_df2['date'].apply(lambda x: str(x)[0:4])\n",
        "mlb_game_df2['M'] = mlb_game_df2['date'].apply(lambda x: str(x)[4:6])\n",
        "mlb_game_df2['D'] = mlb_game_df2['date'].apply(lambda x: str(x)[6:8])"
      ],
      "execution_count": 13,
      "outputs": [
        {
          "output_type": "stream",
          "text": [
            "/usr/local/lib/python3.7/dist-packages/ipykernel_launcher.py:1: SettingWithCopyWarning: \n",
            "A value is trying to be set on a copy of a slice from a DataFrame.\n",
            "Try using .loc[row_indexer,col_indexer] = value instead\n",
            "\n",
            "See the caveats in the documentation: https://pandas.pydata.org/pandas-docs/stable/user_guide/indexing.html#returning-a-view-versus-a-copy\n",
            "  \"\"\"Entry point for launching an IPython kernel.\n",
            "/usr/local/lib/python3.7/dist-packages/ipykernel_launcher.py:2: SettingWithCopyWarning: \n",
            "A value is trying to be set on a copy of a slice from a DataFrame.\n",
            "Try using .loc[row_indexer,col_indexer] = value instead\n",
            "\n",
            "See the caveats in the documentation: https://pandas.pydata.org/pandas-docs/stable/user_guide/indexing.html#returning-a-view-versus-a-copy\n",
            "  \n",
            "/usr/local/lib/python3.7/dist-packages/ipykernel_launcher.py:3: SettingWithCopyWarning: \n",
            "A value is trying to be set on a copy of a slice from a DataFrame.\n",
            "Try using .loc[row_indexer,col_indexer] = value instead\n",
            "\n",
            "See the caveats in the documentation: https://pandas.pydata.org/pandas-docs/stable/user_guide/indexing.html#returning-a-view-versus-a-copy\n",
            "  This is separate from the ipykernel package so we can avoid doing imports until\n"
          ],
          "name": "stderr"
        }
      ]
    },
    {
      "cell_type": "markdown",
      "metadata": {
        "id": "nYNdLggFsRS4"
      },
      "source": [
        "### We have the line scores and final scores for home/away teams but we do not have a column which indicates who the winner is. So let's create the column, 'Winner'"
      ]
    },
    {
      "cell_type": "code",
      "metadata": {
        "colab": {
          "base_uri": "https://localhost:8080/"
        },
        "id": "XavukKelr1Fc",
        "outputId": "0bc61619-abc7-4331-da66-be5de3e2405f"
      },
      "source": [
        "mlb_game_df2['scoreDiff'] = mlb_game_df2['homescore'] - mlb_game_df2['visitingscore']\n",
        "\n",
        "mlb_game_df2['homewin'] = mlb_game_df2['scoreDiff'].apply(\n",
        "lambda x: 1 if x > 0 else 0)\n",
        "\n",
        "mlb_game_df2 = mlb_game_df2.reset_index(drop = True)"
      ],
      "execution_count": 14,
      "outputs": [
        {
          "output_type": "stream",
          "text": [
            "/usr/local/lib/python3.7/dist-packages/ipykernel_launcher.py:1: SettingWithCopyWarning: \n",
            "A value is trying to be set on a copy of a slice from a DataFrame.\n",
            "Try using .loc[row_indexer,col_indexer] = value instead\n",
            "\n",
            "See the caveats in the documentation: https://pandas.pydata.org/pandas-docs/stable/user_guide/indexing.html#returning-a-view-versus-a-copy\n",
            "  \"\"\"Entry point for launching an IPython kernel.\n",
            "/usr/local/lib/python3.7/dist-packages/ipykernel_launcher.py:4: SettingWithCopyWarning: \n",
            "A value is trying to be set on a copy of a slice from a DataFrame.\n",
            "Try using .loc[row_indexer,col_indexer] = value instead\n",
            "\n",
            "See the caveats in the documentation: https://pandas.pydata.org/pandas-docs/stable/user_guide/indexing.html#returning-a-view-versus-a-copy\n",
            "  after removing the cwd from sys.path.\n"
          ],
          "name": "stderr"
        }
      ]
    },
    {
      "cell_type": "code",
      "metadata": {
        "colab": {
          "base_uri": "https://localhost:8080/"
        },
        "id": "b7pGl5Rds4fv",
        "outputId": "42524338-f08d-425c-84d2-81e285f36073"
      },
      "source": [
        "mlb_game_df2['homewin'].mean()"
      ],
      "execution_count": 15,
      "outputs": [
        {
          "output_type": "execute_result",
          "data": {
            "text/plain": [
              "0.5353435491843797"
            ]
          },
          "metadata": {
            "tags": []
          },
          "execution_count": 15
        }
      ]
    },
    {
      "cell_type": "code",
      "metadata": {
        "id": "IEVooKW7lYaJ"
      },
      "source": [
        "clean_cols = ['Y', 'M', 'D',\n",
        "              'visitingteam',\n",
        "              'hometeam',\n",
        "              'visitingscore',\n",
        "              'homescore',\n",
        "              'V_hits',\n",
        "              'H_hits',\n",
        "              'homewin',\n",
        "              'V_errors',\n",
        "              'H_errors']"
      ],
      "execution_count": 16,
      "outputs": []
    },
    {
      "cell_type": "code",
      "metadata": {
        "colab": {
          "base_uri": "https://localhost:8080/",
          "height": 204
        },
        "id": "h4uDV0-Ymllv",
        "outputId": "edad5d94-93df-42aa-8412-dbd6ed7a0c35"
      },
      "source": [
        "mlb_clean = mlb_game_df2[clean_cols]\n",
        "mlb_clean.head()"
      ],
      "execution_count": 17,
      "outputs": [
        {
          "output_type": "execute_result",
          "data": {
            "text/html": [
              "<div>\n",
              "<style scoped>\n",
              "    .dataframe tbody tr th:only-of-type {\n",
              "        vertical-align: middle;\n",
              "    }\n",
              "\n",
              "    .dataframe tbody tr th {\n",
              "        vertical-align: top;\n",
              "    }\n",
              "\n",
              "    .dataframe thead th {\n",
              "        text-align: right;\n",
              "    }\n",
              "</style>\n",
              "<table border=\"1\" class=\"dataframe\">\n",
              "  <thead>\n",
              "    <tr style=\"text-align: right;\">\n",
              "      <th></th>\n",
              "      <th>Y</th>\n",
              "      <th>M</th>\n",
              "      <th>D</th>\n",
              "      <th>visitingteam</th>\n",
              "      <th>hometeam</th>\n",
              "      <th>visitingscore</th>\n",
              "      <th>homescore</th>\n",
              "      <th>V_hits</th>\n",
              "      <th>H_hits</th>\n",
              "      <th>homewin</th>\n",
              "      <th>V_errors</th>\n",
              "      <th>H_errors</th>\n",
              "    </tr>\n",
              "  </thead>\n",
              "  <tbody>\n",
              "    <tr>\n",
              "      <th>0</th>\n",
              "      <td>2010</td>\n",
              "      <td>04</td>\n",
              "      <td>04</td>\n",
              "      <td>NYA</td>\n",
              "      <td>BOS</td>\n",
              "      <td>7</td>\n",
              "      <td>9</td>\n",
              "      <td>12</td>\n",
              "      <td>12</td>\n",
              "      <td>1</td>\n",
              "      <td>1</td>\n",
              "      <td>0</td>\n",
              "    </tr>\n",
              "    <tr>\n",
              "      <th>1</th>\n",
              "      <td>2010</td>\n",
              "      <td>04</td>\n",
              "      <td>05</td>\n",
              "      <td>MIN</td>\n",
              "      <td>ANA</td>\n",
              "      <td>3</td>\n",
              "      <td>6</td>\n",
              "      <td>7</td>\n",
              "      <td>9</td>\n",
              "      <td>1</td>\n",
              "      <td>0</td>\n",
              "      <td>0</td>\n",
              "    </tr>\n",
              "    <tr>\n",
              "      <th>2</th>\n",
              "      <td>2010</td>\n",
              "      <td>04</td>\n",
              "      <td>05</td>\n",
              "      <td>CLE</td>\n",
              "      <td>CHA</td>\n",
              "      <td>0</td>\n",
              "      <td>6</td>\n",
              "      <td>4</td>\n",
              "      <td>6</td>\n",
              "      <td>1</td>\n",
              "      <td>0</td>\n",
              "      <td>0</td>\n",
              "    </tr>\n",
              "    <tr>\n",
              "      <th>3</th>\n",
              "      <td>2010</td>\n",
              "      <td>04</td>\n",
              "      <td>05</td>\n",
              "      <td>DET</td>\n",
              "      <td>KCA</td>\n",
              "      <td>8</td>\n",
              "      <td>4</td>\n",
              "      <td>12</td>\n",
              "      <td>9</td>\n",
              "      <td>0</td>\n",
              "      <td>1</td>\n",
              "      <td>1</td>\n",
              "    </tr>\n",
              "    <tr>\n",
              "      <th>4</th>\n",
              "      <td>2010</td>\n",
              "      <td>04</td>\n",
              "      <td>05</td>\n",
              "      <td>SEA</td>\n",
              "      <td>OAK</td>\n",
              "      <td>5</td>\n",
              "      <td>3</td>\n",
              "      <td>6</td>\n",
              "      <td>5</td>\n",
              "      <td>0</td>\n",
              "      <td>1</td>\n",
              "      <td>4</td>\n",
              "    </tr>\n",
              "  </tbody>\n",
              "</table>\n",
              "</div>"
            ],
            "text/plain": [
              "      Y   M   D visitingteam  ... H_hits  homewin  V_errors  H_errors\n",
              "0  2010  04  04          NYA  ...     12        1         1         0\n",
              "1  2010  04  05          MIN  ...      9        1         0         0\n",
              "2  2010  04  05          CLE  ...      6        1         0         0\n",
              "3  2010  04  05          DET  ...      9        0         1         1\n",
              "4  2010  04  05          SEA  ...      5        0         1         4\n",
              "\n",
              "[5 rows x 12 columns]"
            ]
          },
          "metadata": {
            "tags": []
          },
          "execution_count": 17
        }
      ]
    },
    {
      "cell_type": "code",
      "metadata": {
        "id": "RiXOtENkk1ZF"
      },
      "source": [
        "mlb_clean.to_excel(\"mlb_clean_data.xlsx\")"
      ],
      "execution_count": 18,
      "outputs": []
    },
    {
      "cell_type": "markdown",
      "metadata": {
        "id": "0AWFIFsJvNUz"
      },
      "source": [
        "### Specify game level data columns"
      ]
    },
    {
      "cell_type": "code",
      "metadata": {
        "id": "x6IBBaaNt_SI"
      },
      "source": [
        "team_cols = [\n",
        "    'date',\n",
        "    'Y',\n",
        "    'M',\n",
        "    'D',\n",
        "    'visitingteam',\n",
        "    'hometeam',\n",
        "    'visitingscore',\n",
        "    'homescore',\n",
        "    'V_pitcherID',\n",
        "    'H_pitcherID'\n",
        "]\n",
        "\n",
        "#for i in range(9):\n",
        "#    team_cols.append('V_player' + str(i + 1) + '_id')\n",
        "\n",
        "#for i in range(9):\n",
        "#    team_cols.append('H_player' + str(i + 1) + '_id')\n",
        "\n",
        "team_cols.append('homewin')"
      ],
      "execution_count": 19,
      "outputs": []
    },
    {
      "cell_type": "markdown",
      "metadata": {
        "id": "kx6PQV3ywK1I"
      },
      "source": [
        "### Convert date column "
      ]
    },
    {
      "cell_type": "code",
      "metadata": {
        "id": "s4YU6in7v9vT"
      },
      "source": [
        "import datetime as dt"
      ],
      "execution_count": 20,
      "outputs": []
    },
    {
      "cell_type": "code",
      "metadata": {
        "colab": {
          "base_uri": "https://localhost:8080/"
        },
        "id": "MsqmiWoEw7xd",
        "outputId": "c65a97a8-4d99-45e4-b3ed-5fecfa6ce8b9"
      },
      "source": [
        "mlb_game_df2['date'] = None\n",
        "for i in range(len(mlb_game_df2)):\n",
        "    mlb_game_df2.loc[i, 'date'] = dt.date(int(mlb_game_df2.loc[i, 'Y']), \n",
        "                                          int(mlb_game_df2.loc[i, 'M']), \n",
        "                                          int(mlb_game_df2.loc[i, 'D']))\n",
        "    if (i % 10000 == 0):\n",
        "        print(mlb_game_df2.loc[i, 'date'])\n",
        "mlb_game_df2['date']"
      ],
      "execution_count": 21,
      "outputs": [
        {
          "output_type": "stream",
          "text": [
            "2010-04-04\n",
            "2014-04-21\n",
            "2018-05-12\n"
          ],
          "name": "stdout"
        },
        {
          "output_type": "execute_result",
          "data": {
            "text/plain": [
              "0        2010-04-04\n",
              "1        2010-04-05\n",
              "2        2010-04-05\n",
              "3        2010-04-05\n",
              "4        2010-04-05\n",
              "            ...    \n",
              "24271    2019-09-29\n",
              "24272    2019-09-29\n",
              "24273    2019-09-29\n",
              "24274    2019-09-29\n",
              "24275    2019-09-29\n",
              "Name: date, Length: 24276, dtype: object"
            ]
          },
          "metadata": {
            "tags": []
          },
          "execution_count": 21
        }
      ]
    },
    {
      "cell_type": "markdown",
      "metadata": {
        "id": "4Qx9EYJDy2RV"
      },
      "source": [
        "### Add the specified game level columns and the converted date column into a final data frame"
      ]
    },
    {
      "cell_type": "code",
      "metadata": {
        "colab": {
          "base_uri": "https://localhost:8080/",
          "height": 204
        },
        "id": "o5pl9WuCx5Tw",
        "outputId": "06f9cc81-05e0-4102-c5cd-589a89eec2fe"
      },
      "source": [
        "team_level_df = mlb_game_df2[team_cols]\n",
        "team_level_df.head()"
      ],
      "execution_count": 22,
      "outputs": [
        {
          "output_type": "execute_result",
          "data": {
            "text/html": [
              "<div>\n",
              "<style scoped>\n",
              "    .dataframe tbody tr th:only-of-type {\n",
              "        vertical-align: middle;\n",
              "    }\n",
              "\n",
              "    .dataframe tbody tr th {\n",
              "        vertical-align: top;\n",
              "    }\n",
              "\n",
              "    .dataframe thead th {\n",
              "        text-align: right;\n",
              "    }\n",
              "</style>\n",
              "<table border=\"1\" class=\"dataframe\">\n",
              "  <thead>\n",
              "    <tr style=\"text-align: right;\">\n",
              "      <th></th>\n",
              "      <th>date</th>\n",
              "      <th>Y</th>\n",
              "      <th>M</th>\n",
              "      <th>D</th>\n",
              "      <th>visitingteam</th>\n",
              "      <th>hometeam</th>\n",
              "      <th>visitingscore</th>\n",
              "      <th>homescore</th>\n",
              "      <th>V_pitcherID</th>\n",
              "      <th>H_pitcherID</th>\n",
              "      <th>homewin</th>\n",
              "    </tr>\n",
              "  </thead>\n",
              "  <tbody>\n",
              "    <tr>\n",
              "      <th>0</th>\n",
              "      <td>2010-04-04</td>\n",
              "      <td>2010</td>\n",
              "      <td>04</td>\n",
              "      <td>04</td>\n",
              "      <td>NYA</td>\n",
              "      <td>BOS</td>\n",
              "      <td>7</td>\n",
              "      <td>9</td>\n",
              "      <td>sabac001</td>\n",
              "      <td>beckj002</td>\n",
              "      <td>1</td>\n",
              "    </tr>\n",
              "    <tr>\n",
              "      <th>1</th>\n",
              "      <td>2010-04-05</td>\n",
              "      <td>2010</td>\n",
              "      <td>04</td>\n",
              "      <td>05</td>\n",
              "      <td>MIN</td>\n",
              "      <td>ANA</td>\n",
              "      <td>3</td>\n",
              "      <td>6</td>\n",
              "      <td>bakes002</td>\n",
              "      <td>weavj003</td>\n",
              "      <td>1</td>\n",
              "    </tr>\n",
              "    <tr>\n",
              "      <th>2</th>\n",
              "      <td>2010-04-05</td>\n",
              "      <td>2010</td>\n",
              "      <td>04</td>\n",
              "      <td>05</td>\n",
              "      <td>CLE</td>\n",
              "      <td>CHA</td>\n",
              "      <td>0</td>\n",
              "      <td>6</td>\n",
              "      <td>westj001</td>\n",
              "      <td>buehm001</td>\n",
              "      <td>1</td>\n",
              "    </tr>\n",
              "    <tr>\n",
              "      <th>3</th>\n",
              "      <td>2010-04-05</td>\n",
              "      <td>2010</td>\n",
              "      <td>04</td>\n",
              "      <td>05</td>\n",
              "      <td>DET</td>\n",
              "      <td>KCA</td>\n",
              "      <td>8</td>\n",
              "      <td>4</td>\n",
              "      <td>verlj001</td>\n",
              "      <td>greiz001</td>\n",
              "      <td>0</td>\n",
              "    </tr>\n",
              "    <tr>\n",
              "      <th>4</th>\n",
              "      <td>2010-04-05</td>\n",
              "      <td>2010</td>\n",
              "      <td>04</td>\n",
              "      <td>05</td>\n",
              "      <td>SEA</td>\n",
              "      <td>OAK</td>\n",
              "      <td>5</td>\n",
              "      <td>3</td>\n",
              "      <td>hernf002</td>\n",
              "      <td>sheeb001</td>\n",
              "      <td>0</td>\n",
              "    </tr>\n",
              "  </tbody>\n",
              "</table>\n",
              "</div>"
            ],
            "text/plain": [
              "         date     Y   M   D  ... homescore V_pitcherID  H_pitcherID  homewin\n",
              "0  2010-04-04  2010  04  04  ...         9    sabac001     beckj002        1\n",
              "1  2010-04-05  2010  04  05  ...         6    bakes002     weavj003        1\n",
              "2  2010-04-05  2010  04  05  ...         6    westj001     buehm001        1\n",
              "3  2010-04-05  2010  04  05  ...         4    verlj001     greiz001        0\n",
              "4  2010-04-05  2010  04  05  ...         3    hernf002     sheeb001        0\n",
              "\n",
              "[5 rows x 11 columns]"
            ]
          },
          "metadata": {
            "tags": []
          },
          "execution_count": 22
        }
      ]
    },
    {
      "cell_type": "code",
      "metadata": {
        "colab": {
          "base_uri": "https://localhost:8080/"
        },
        "id": "AnNtaRFJza4p",
        "outputId": "f2d9f592-f554-4c3f-852a-89cd26d10711"
      },
      "source": [
        "print(list(team_level_df))"
      ],
      "execution_count": 23,
      "outputs": [
        {
          "output_type": "stream",
          "text": [
            "['date', 'Y', 'M', 'D', 'visitingteam', 'hometeam', 'visitingscore', 'homescore', 'V_pitcherID', 'H_pitcherID', 'homewin']\n"
          ],
          "name": "stdout"
        }
      ]
    },
    {
      "cell_type": "markdown",
      "metadata": {
        "id": "x3BfB4KtrzrU"
      },
      "source": [
        "### After a winner column, we should also make a column to differentiate if the winner was a home or visitor team"
      ]
    },
    {
      "cell_type": "code",
      "metadata": {
        "id": "vdIYVg8_rygK"
      },
      "source": [
        "visitorWin = pd.DataFrame(team_level_df[team_level_df.homewin == 0].rename({'visitingteam': 'team'}, \n",
        "            axis = 1).groupby(['Y', 'team'])['homewin'].count()).rename({'winner': 'W'}, axis = 1)\n",
        "\n",
        "homeWin = pd.DataFrame(team_level_df.rename({'hometeam': 'team'}, \n",
        "          axis = 1).groupby(['Y', 'team'])['homewin'].sum()).rename({'winner': 'W'}, axis = 1)\n",
        "\n",
        "totalWin = visitorWin + homeWin"
      ],
      "execution_count": 25,
      "outputs": []
    },
    {
      "cell_type": "code",
      "metadata": {
        "colab": {
          "base_uri": "https://localhost:8080/",
          "height": 282
        },
        "id": "bawm1JJzq9dg",
        "outputId": "8112a033-c884-4b91-f8c6-6d654019198d"
      },
      "source": [
        "home_WR = team_level_df.groupby('Y').homewin.mean()\n",
        "plt.plot(home_WR)"
      ],
      "execution_count": 26,
      "outputs": [
        {
          "output_type": "execute_result",
          "data": {
            "text/plain": [
              "[<matplotlib.lines.Line2D at 0x7f37572a3590>]"
            ]
          },
          "metadata": {
            "tags": []
          },
          "execution_count": 26
        },
        {
          "output_type": "display_data",
          "data": {
            "image/png": "[encoded data removed]",
            "text/plain": [
              "<Figure size 432x288 with 1 Axes>"
            ]
          },
          "metadata": {
            "tags": [],
            "needs_background": "light"
          }
        }
      ]
    },
    {
      "cell_type": "code",
      "metadata": {
        "colab": {
          "base_uri": "https://localhost:8080/",
          "height": 635
        },
        "id": "UUH7XFVw3bSY",
        "outputId": "f47c1b5d-c888-4a09-dd90-d40c2e4a58c9"
      },
      "source": [
        "df_plot = team_level_df[['homescore', 'visitingscore','date','hometeam']].set_index('date')\n",
        "\n",
        "plot = df_plot.plot(subplots=True,title = 'Runs Scored Over Time',figsize=(15,10))"
      ],
      "execution_count": 27,
      "outputs": [
        {
          "output_type": "display_data",
          "data": {
            "image/png": "[encoded data removed]",
            "text/plain": [
              "<Figure size 1080x720 with 2 Axes>"
            ]
          },
          "metadata": {
            "tags": [],
            "needs_background": "light"
          }
        }
      ]
    },
    {
      "cell_type": "code",
      "metadata": {
        "id": "QPPa8qvF0RDT"
      },
      "source": [
        "data = pd.read_excel('mlb_clean_data-2.xlsx')"
      ],
      "execution_count": 37,
      "outputs": []
    },
    {
      "cell_type": "code",
      "metadata": {
        "colab": {
          "base_uri": "https://localhost:8080/",
          "height": 258
        },
        "id": "YcoQS33d1psf",
        "outputId": "27a661c3-7aa6-4ff6-d634-6afe3b4e6c0d"
      },
      "source": [
        "data.head()"
      ],
      "execution_count": 38,
      "outputs": [
        {
          "output_type": "execute_result",
          "data": {
            "text/html": [
              "<div>\n",
              "<style scoped>\n",
              "    .dataframe tbody tr th:only-of-type {\n",
              "        vertical-align: middle;\n",
              "    }\n",
              "\n",
              "    .dataframe tbody tr th {\n",
              "        vertical-align: top;\n",
              "    }\n",
              "\n",
              "    .dataframe thead th {\n",
              "        text-align: right;\n",
              "    }\n",
              "</style>\n",
              "<table border=\"1\" class=\"dataframe\">\n",
              "  <thead>\n",
              "    <tr style=\"text-align: right;\">\n",
              "      <th></th>\n",
              "      <th>Unnamed: 0</th>\n",
              "      <th>Y</th>\n",
              "      <th>M</th>\n",
              "      <th>D</th>\n",
              "      <th>visitingteam</th>\n",
              "      <th>hometeam</th>\n",
              "      <th>visitingscore</th>\n",
              "      <th>homescore</th>\n",
              "      <th>V_hits</th>\n",
              "      <th>H_hits</th>\n",
              "      <th>homewin</th>\n",
              "      <th>V_errors</th>\n",
              "      <th>H_errors</th>\n",
              "      <th>Average H_score</th>\n",
              "      <th>Average V_score</th>\n",
              "      <th>Avg H_score conceded</th>\n",
              "      <th>Avg V_score conceded</th>\n",
              "      <th>H_score Running Avg</th>\n",
              "      <th>V_score Running Avg</th>\n",
              "      <th>H_score conceded RA</th>\n",
              "      <th>V_score conceded RA</th>\n",
              "      <th>AvgHscoreRA</th>\n",
              "      <th>AvgVscoreRA</th>\n",
              "      <th>AvgHscoreConcededRA</th>\n",
              "      <th>AvgVscoreConcededRA</th>\n",
              "    </tr>\n",
              "  </thead>\n",
              "  <tbody>\n",
              "    <tr>\n",
              "      <th>0</th>\n",
              "      <td>0</td>\n",
              "      <td>2010</td>\n",
              "      <td>4</td>\n",
              "      <td>4</td>\n",
              "      <td>NYA</td>\n",
              "      <td>BOS</td>\n",
              "      <td>7</td>\n",
              "      <td>9</td>\n",
              "      <td>12</td>\n",
              "      <td>12</td>\n",
              "      <td>1</td>\n",
              "      <td>1</td>\n",
              "      <td>0</td>\n",
              "      <td>9.0</td>\n",
              "      <td>7.0</td>\n",
              "      <td>7.0</td>\n",
              "      <td>9.0</td>\n",
              "      <td>0.0</td>\n",
              "      <td>0.0</td>\n",
              "      <td>0.0</td>\n",
              "      <td>0.0</td>\n",
              "      <td>0.0</td>\n",
              "      <td>0.0</td>\n",
              "      <td>0.0</td>\n",
              "      <td>0.0</td>\n",
              "    </tr>\n",
              "    <tr>\n",
              "      <th>1</th>\n",
              "      <td>1</td>\n",
              "      <td>2010</td>\n",
              "      <td>4</td>\n",
              "      <td>5</td>\n",
              "      <td>MIN</td>\n",
              "      <td>ANA</td>\n",
              "      <td>3</td>\n",
              "      <td>6</td>\n",
              "      <td>7</td>\n",
              "      <td>9</td>\n",
              "      <td>1</td>\n",
              "      <td>0</td>\n",
              "      <td>0</td>\n",
              "      <td>6.0</td>\n",
              "      <td>3.0</td>\n",
              "      <td>3.0</td>\n",
              "      <td>6.0</td>\n",
              "      <td>0.0</td>\n",
              "      <td>0.0</td>\n",
              "      <td>0.0</td>\n",
              "      <td>0.0</td>\n",
              "      <td>0.0</td>\n",
              "      <td>0.0</td>\n",
              "      <td>0.0</td>\n",
              "      <td>0.0</td>\n",
              "    </tr>\n",
              "    <tr>\n",
              "      <th>2</th>\n",
              "      <td>2</td>\n",
              "      <td>2010</td>\n",
              "      <td>4</td>\n",
              "      <td>5</td>\n",
              "      <td>CLE</td>\n",
              "      <td>CHA</td>\n",
              "      <td>0</td>\n",
              "      <td>6</td>\n",
              "      <td>4</td>\n",
              "      <td>6</td>\n",
              "      <td>1</td>\n",
              "      <td>0</td>\n",
              "      <td>0</td>\n",
              "      <td>6.0</td>\n",
              "      <td>0.0</td>\n",
              "      <td>0.0</td>\n",
              "      <td>6.0</td>\n",
              "      <td>0.0</td>\n",
              "      <td>0.0</td>\n",
              "      <td>0.0</td>\n",
              "      <td>0.0</td>\n",
              "      <td>0.0</td>\n",
              "      <td>0.0</td>\n",
              "      <td>0.0</td>\n",
              "      <td>0.0</td>\n",
              "    </tr>\n",
              "    <tr>\n",
              "      <th>3</th>\n",
              "      <td>3</td>\n",
              "      <td>2010</td>\n",
              "      <td>4</td>\n",
              "      <td>5</td>\n",
              "      <td>DET</td>\n",
              "      <td>KCA</td>\n",
              "      <td>8</td>\n",
              "      <td>4</td>\n",
              "      <td>12</td>\n",
              "      <td>9</td>\n",
              "      <td>0</td>\n",
              "      <td>1</td>\n",
              "      <td>1</td>\n",
              "      <td>4.0</td>\n",
              "      <td>8.0</td>\n",
              "      <td>8.0</td>\n",
              "      <td>4.0</td>\n",
              "      <td>0.0</td>\n",
              "      <td>0.0</td>\n",
              "      <td>0.0</td>\n",
              "      <td>0.0</td>\n",
              "      <td>0.0</td>\n",
              "      <td>0.0</td>\n",
              "      <td>0.0</td>\n",
              "      <td>0.0</td>\n",
              "    </tr>\n",
              "    <tr>\n",
              "      <th>4</th>\n",
              "      <td>4</td>\n",
              "      <td>2010</td>\n",
              "      <td>4</td>\n",
              "      <td>5</td>\n",
              "      <td>SEA</td>\n",
              "      <td>OAK</td>\n",
              "      <td>5</td>\n",
              "      <td>3</td>\n",
              "      <td>6</td>\n",
              "      <td>5</td>\n",
              "      <td>0</td>\n",
              "      <td>1</td>\n",
              "      <td>4</td>\n",
              "      <td>3.0</td>\n",
              "      <td>5.0</td>\n",
              "      <td>5.0</td>\n",
              "      <td>3.0</td>\n",
              "      <td>0.0</td>\n",
              "      <td>0.0</td>\n",
              "      <td>0.0</td>\n",
              "      <td>0.0</td>\n",
              "      <td>0.0</td>\n",
              "      <td>0.0</td>\n",
              "      <td>0.0</td>\n",
              "      <td>0.0</td>\n",
              "    </tr>\n",
              "  </tbody>\n",
              "</table>\n",
              "</div>"
            ],
            "text/plain": [
              "   Unnamed: 0     Y  M  ...  AvgVscoreRA AvgHscoreConcededRA AvgVscoreConcededRA\n",
              "0           0  2010  4  ...          0.0                 0.0                 0.0\n",
              "1           1  2010  4  ...          0.0                 0.0                 0.0\n",
              "2           2  2010  4  ...          0.0                 0.0                 0.0\n",
              "3           3  2010  4  ...          0.0                 0.0                 0.0\n",
              "4           4  2010  4  ...          0.0                 0.0                 0.0\n",
              "\n",
              "[5 rows x 25 columns]"
            ]
          },
          "metadata": {
            "tags": []
          },
          "execution_count": 38
        }
      ]
    },
    {
      "cell_type": "code",
      "metadata": {
        "id": "cCDqNT951tk5"
      },
      "source": [
        "Average_cols = ['homewin',\n",
        "                'AvgHscoreRA',\n",
        "                'AvgVscoreRA',\n",
        "                'AvgHscoreConcededRA',\n",
        "                'AvgVscoreConcededRA']"
      ],
      "execution_count": 39,
      "outputs": []
    },
    {
      "cell_type": "code",
      "metadata": {
        "colab": {
          "base_uri": "https://localhost:8080/",
          "height": 204
        },
        "id": "XAA4bTRt2J6J",
        "outputId": "856ce93f-ae17-4ef2-cc1c-94a650b44523"
      },
      "source": [
        "mlb_data = data[Average_cols]\n",
        "mlb_data.head()"
      ],
      "execution_count": 40,
      "outputs": [
        {
          "output_type": "execute_result",
          "data": {
            "text/html": [
              "<div>\n",
              "<style scoped>\n",
              "    .dataframe tbody tr th:only-of-type {\n",
              "        vertical-align: middle;\n",
              "    }\n",
              "\n",
              "    .dataframe tbody tr th {\n",
              "        vertical-align: top;\n",
              "    }\n",
              "\n",
              "    .dataframe thead th {\n",
              "        text-align: right;\n",
              "    }\n",
              "</style>\n",
              "<table border=\"1\" class=\"dataframe\">\n",
              "  <thead>\n",
              "    <tr style=\"text-align: right;\">\n",
              "      <th></th>\n",
              "      <th>homewin</th>\n",
              "      <th>AvgHscoreRA</th>\n",
              "      <th>AvgVscoreRA</th>\n",
              "      <th>AvgHscoreConcededRA</th>\n",
              "      <th>AvgVscoreConcededRA</th>\n",
              "    </tr>\n",
              "  </thead>\n",
              "  <tbody>\n",
              "    <tr>\n",
              "      <th>0</th>\n",
              "      <td>1</td>\n",
              "      <td>0.0</td>\n",
              "      <td>0.0</td>\n",
              "      <td>0.0</td>\n",
              "      <td>0.0</td>\n",
              "    </tr>\n",
              "    <tr>\n",
              "      <th>1</th>\n",
              "      <td>1</td>\n",
              "      <td>0.0</td>\n",
              "      <td>0.0</td>\n",
              "      <td>0.0</td>\n",
              "      <td>0.0</td>\n",
              "    </tr>\n",
              "    <tr>\n",
              "      <th>2</th>\n",
              "      <td>1</td>\n",
              "      <td>0.0</td>\n",
              "      <td>0.0</td>\n",
              "      <td>0.0</td>\n",
              "      <td>0.0</td>\n",
              "    </tr>\n",
              "    <tr>\n",
              "      <th>3</th>\n",
              "      <td>0</td>\n",
              "      <td>0.0</td>\n",
              "      <td>0.0</td>\n",
              "      <td>0.0</td>\n",
              "      <td>0.0</td>\n",
              "    </tr>\n",
              "    <tr>\n",
              "      <th>4</th>\n",
              "      <td>0</td>\n",
              "      <td>0.0</td>\n",
              "      <td>0.0</td>\n",
              "      <td>0.0</td>\n",
              "      <td>0.0</td>\n",
              "    </tr>\n",
              "  </tbody>\n",
              "</table>\n",
              "</div>"
            ],
            "text/plain": [
              "   homewin  AvgHscoreRA  AvgVscoreRA  AvgHscoreConcededRA  AvgVscoreConcededRA\n",
              "0        1          0.0          0.0                  0.0                  0.0\n",
              "1        1          0.0          0.0                  0.0                  0.0\n",
              "2        1          0.0          0.0                  0.0                  0.0\n",
              "3        0          0.0          0.0                  0.0                  0.0\n",
              "4        0          0.0          0.0                  0.0                  0.0"
            ]
          },
          "metadata": {
            "tags": []
          },
          "execution_count": 40
        }
      ]
    },
    {
      "cell_type": "code",
      "metadata": {
        "colab": {
          "base_uri": "https://localhost:8080/"
        },
        "id": "BwA7St0N2ap3",
        "outputId": "b73bc95b-53da-431b-f098-64da7dc525e8"
      },
      "source": [
        "n_games = mlb_data.shape[0]\n",
        "n_features = mlb_data.shape[1] -1 \n",
        "n_homewins = len(mlb_data[mlb_data.homewin == 1])\n",
        "win_rate = (float(n_homewins)/(n_games)) * 100\n",
        "\n",
        "print(\"Total games:\", n_games)\n",
        "print(\"Number of features:\", n_features)\n",
        "print(\"Number of home wins:\", n_homewins)\n",
        "print(\"Home team win rate:\", win_rate, \"%\")"
      ],
      "execution_count": 42,
      "outputs": [
        {
          "output_type": "stream",
          "text": [
            "Total games: 24276\n",
            "Number of features: 4\n",
            "Number of home wins: 12996\n",
            "Home team win rate: 53.53435491843796 %\n"
          ],
          "name": "stdout"
        }
      ]
    },
    {
      "cell_type": "code",
      "metadata": {
        "colab": {
          "base_uri": "https://localhost:8080/",
          "height": 904
        },
        "id": "qiE8-_K43EXb",
        "outputId": "358096ec-cedb-4463-ebb2-f0a89030bfde"
      },
      "source": [
        "from pandas.plotting import scatter_matrix\n",
        "scatter_matrix(mlb_data[['AvgHscoreRA','AvgVscoreRA','AvgHscoreConcededRA','AvgVscoreConcededRA']], figsize=(10,10))\n",
        "\n",
        "#AvgHscoreRA - Average Home Team Score relative to the average. Meaning how many more or less goals does the home team score against the relative average to the visiting team's score conceded average\n",
        "#AvgVscoreRA - Average visiting team score relative to the average\n",
        "#AvgHscoreConcededRA - Average home team score conceded relative to average\n",
        "#AvgVscoreConcededRA - Average visiting team score conceded relative to average"
      ],
      "execution_count": 44,
      "outputs": [
        {
          "output_type": "execute_result",
          "data": {
            "text/plain": [
              "array([[<matplotlib.axes._subplots.AxesSubplot object at 0x7f375b507690>,\n",
              "        <matplotlib.axes._subplots.AxesSubplot object at 0x7f3756ea0510>,\n",
              "        <matplotlib.axes._subplots.AxesSubplot object at 0x7f3758e68b90>,\n",
              "        <matplotlib.axes._subplots.AxesSubplot object at 0x7f375d0d9250>],\n",
              "       [<matplotlib.axes._subplots.AxesSubplot object at 0x7f37597d48d0>,\n",
              "        <matplotlib.axes._subplots.AxesSubplot object at 0x7f3758d16f50>,\n",
              "        <matplotlib.axes._subplots.AxesSubplot object at 0x7f375d446690>,\n",
              "        <matplotlib.axes._subplots.AxesSubplot object at 0x7f375d8fcc50>],\n",
              "       [<matplotlib.axes._subplots.AxesSubplot object at 0x7f375d8fcc90>,\n",
              "        <matplotlib.axes._subplots.AxesSubplot object at 0x7f3758ca9ad0>,\n",
              "        <matplotlib.axes._subplots.AxesSubplot object at 0x7f375d9bf510>,\n",
              "        <matplotlib.axes._subplots.AxesSubplot object at 0x7f3758f73a90>],\n",
              "       [<matplotlib.axes._subplots.AxesSubplot object at 0x7f3758ceffd0>,\n",
              "        <matplotlib.axes._subplots.AxesSubplot object at 0x7f375a1615d0>,\n",
              "        <matplotlib.axes._subplots.AxesSubplot object at 0x7f374989f390>,\n",
              "        <matplotlib.axes._subplots.AxesSubplot object at 0x7f375d4384d0>]],\n",
              "      dtype=object)"
            ]
          },
          "metadata": {
            "tags": []
          },
          "execution_count": 44
        },
        {
          "output_type": "display_data",
          "data": {
            "image/png": "[encoded data removed]",
            "text/plain": [
              "<Figure size 720x720 with 16 Axes>"
            ]
          },
          "metadata": {
            "tags": [],
            "needs_background": "light"
          }
        }
      ]
    },
    {
      "cell_type": "code",
      "metadata": {
        "id": "XA0GgNoN3n3j"
      },
      "source": [
        "X_all = mlb_data.drop(['homewin'],1)\n",
        "y_all = mlb_data['homewin']"
      ],
      "execution_count": null,
      "outputs": []
    },
    {
      "cell_type": "markdown",
      "metadata": {
        "id": "QIzd-LHbDa39"
      },
      "source": [
        "### With the data preprocessing completed, we will use the information to predict the value of the 'Hresult' column"
      ]
    },
    {
      "cell_type": "code",
      "metadata": {
        "id": "XUJb-kEP43FU"
      },
      "source": [
        "from sklearn.model_selection import train_test_split\n",
        "\n",
        "Y = mlb_data['homewin']\n",
        "X = mlb_data.drop(['homewin'], axis=1)\n",
        "X_train, X_test, Y_train, Y_test = train_test_split(X, Y, test_size=0.2, random_state=1, stratify = Y)"
      ],
      "execution_count": 45,
      "outputs": []
    },
    {
      "cell_type": "markdown",
      "metadata": {
        "id": "bOMNHuz9DvQd"
      },
      "source": [
        "### importing libraries for models"
      ]
    },
    {
      "cell_type": "code",
      "metadata": {
        "id": "LrmTvdMsDXmU"
      },
      "source": [
        "from sklearn import tree\n",
        "from sklearn.metrics import accuracy_score\n",
        "from sklearn.model_selection import cross_val_score\n"
      ],
      "execution_count": 46,
      "outputs": []
    },
    {
      "cell_type": "markdown",
      "metadata": {
        "id": "6l9WMc9JD1Xc"
      },
      "source": [
        "### First model we will use is a decision tree with a 10-fold validation"
      ]
    },
    {
      "cell_type": "code",
      "metadata": {
        "colab": {
          "base_uri": "https://localhost:8080/",
          "height": 329
        },
        "id": "aE0mmPogDziH",
        "outputId": "f2525207-5add-43dc-db18-e8f30633e6e0"
      },
      "source": [
        "maxdepths = [1,2,3,4,5,6,7,8,9,10]\n",
        "\n",
        "validationAccuracy = np.zeros(len(maxdepths))\n",
        "testAccuracy = np.zeros(len(maxdepths))\n",
        "\n",
        "numFolds = 10\n",
        "index = 0\n",
        "\n",
        "for depth in maxdepths:\n",
        "  clf = tree.DecisionTreeClassifier(max_depth=depth, random_state=1)\n",
        "  scores = cross_val_score(clf, X_train, Y_train, cv=numFolds)\n",
        "  validationAccuracy[index] = np.mean(scores)\n",
        "\n",
        "  clf = clf.fit(X_train, Y_train)\n",
        "  Y_predTest = clf.predict(X_test)\n",
        "  testAccuracy[index] = accuracy_score(Y_test, Y_predTest)\n",
        "  index += 1\n",
        "\n",
        "plt.plot(maxdepths, validationAccuracy, 'ro--', maxdepths, testAccuracy, 'kv-')\n",
        "plt.xlabel('Maximum depth')\n",
        "plt.ylabel('Accuracy')\n",
        "plt.title('Decision Tree')\n",
        "plt.legend(['Validation','Testing'])\n",
        "\n",
        "HyperParam = np.argmax(validationAccuracy)\n",
        "print('Best Hyperparameter: maxdepth =', maxdepths[HyperParam])\n",
        "print('Test Accuracy =', testAccuracy[HyperParam])"
      ],
      "execution_count": 47,
      "outputs": [
        {
          "output_type": "stream",
          "text": [
            "Best Hyperparameter: maxdepth = 4\n",
            "Test Accuracy = 0.7705930807248764\n"
          ],
          "name": "stdout"
        },
        {
          "output_type": "display_data",
          "data": {
            "image/png": "[encoded data removed]",
            "text/plain": [
              "<Figure size 432x288 with 1 Axes>"
            ]
          },
          "metadata": {
            "tags": [],
            "needs_background": "light"
          }
        }
      ]
    },
    {
      "cell_type": "code",
      "metadata": {
        "colab": {
          "base_uri": "https://localhost:8080/",
          "height": 329
        },
        "id": "3kvkj6ljF0ZL",
        "outputId": "e3906542-23a8-42d8-9d9e-22a9ceae7506"
      },
      "source": [
        "from sklearn import linear_model\n",
        "\n",
        "regularizers = [0.01, 0.02, 0.05, 0.1, 0.2, 0.3, 0.4, 0.5]\n",
        "validationAcc = np.zeros(len(regularizers))\n",
        "testAcc = np.zeros(len(regularizers))\n",
        "index = 0\n",
        "\n",
        "for C in regularizers:\n",
        "  clf = linear_model.LogisticRegression(C=C, solver='liblinear', penalty='l1', random_state=1)\n",
        "  scores = cross_val_score(clf, X_train, Y_train, cv=10)\n",
        "  validationAcc[index] = np.mean(scores)\n",
        "  clf.fit(X_train, Y_train)\n",
        "  Y_predTest = clf.predict(X_test)\n",
        "  testAcc[index] = accuracy_score(Y_test, Y_predTest)\n",
        "  index += 1\n",
        "\n",
        "plt.plot(regularizers, validationAcc, 'ro--', regularizers, testAcc, 'kv-')\n",
        "plt.xlabel('Regularizer (C)')\n",
        "plt.ylabel('Accuracy')\n",
        "plt.title('Logistic Regression')\n",
        "plt.legend(['Validation', 'Testing'])\n",
        "\n",
        "bestHyperparam = np.argmax(validationAcc)\n",
        "print('Best Hyperparameter, C =', regularizers[bestHyperparam])\n",
        "print('Test Accuracy =', testAcc[bestHyperparam])"
      ],
      "execution_count": 48,
      "outputs": [
        {
          "output_type": "stream",
          "text": [
            "Best Hyperparameter, C = 0.4\n",
            "Test Accuracy = 0.7734761120263591\n"
          ],
          "name": "stdout"
        },
        {
          "output_type": "display_data",
          "data": {
            "image/png": "[encoded data removed]",
            "text/plain": [
              "<Figure size 432x288 with 1 Axes>"
            ]
          },
          "metadata": {
            "tags": [],
            "needs_background": "light"
          }
        }
      ]
    },
    {
      "cell_type": "code",
      "metadata": {
        "colab": {
          "base_uri": "https://localhost:8080/",
          "height": 329
        },
        "id": "IEPXzn3f2-pd",
        "outputId": "0436afd5-fabf-4b87-83cb-027537fa7232"
      },
      "source": [
        "from sklearn.neighbors import KNeighborsClassifier\n",
        "%matplotlib inline\n",
        "\n",
        "numNeighbors = [1, 3, 4, 7, 10, 15, 20, 25, 30]\n",
        "validationAcc = np.zeros(len(numNeighbors))\n",
        "testAcc = np.zeros(len(numNeighbors))\n",
        "index = 0\n",
        "\n",
        "for nn in numNeighbors:\n",
        "    clf = KNeighborsClassifier(n_neighbors=nn)\n",
        "    scores = cross_val_score(clf, X_train, Y_train, cv=10)\n",
        "    validationAcc[index] = np.mean(scores)\n",
        "    clf.fit(X_train, Y_train)\n",
        "    Y_predTest = clf.predict(X_test)\n",
        "    testAcc[index] = accuracy_score(Y_test, Y_predTest)\n",
        "    index += 1\n",
        "    \n",
        "plt.plot(numNeighbors, validationAcc, 'ro--', numNeighbors, testAcc, 'kv-')\n",
        "plt.xlabel('Number of neighbors')\n",
        "plt.ylabel('Accuracy')\n",
        "plt.title('k-nearest neighbors')\n",
        "plt.legend(['Validation','Testing'])\n",
        "\n",
        "bestHyperparam = np.argmax(validationAcc)\n",
        "print('Best hyperparameter: k =', numNeighbors[bestHyperparam])\n",
        "print('Test Accuracy =', testAcc[bestHyperparam])"
      ],
      "execution_count": 49,
      "outputs": [
        {
          "output_type": "stream",
          "text": [
            "Best hyperparameter: k = 25\n",
            "Test Accuracy = 0.7650329489291599\n"
          ],
          "name": "stdout"
        },
        {
          "output_type": "display_data",
          "data": {
            "image/png": "[encoded data removed]",
            "text/plain": [
              "<Figure size 432x288 with 1 Axes>"
            ]
          },
          "metadata": {
            "tags": [],
            "needs_background": "light"
          }
        }
      ]
    },
    {
      "cell_type": "code",
      "metadata": {
        "id": "VfXwMAzY5QXM"
      },
      "source": [
        ""
      ],
      "execution_count": null,
      "outputs": []
    }
  ]
}